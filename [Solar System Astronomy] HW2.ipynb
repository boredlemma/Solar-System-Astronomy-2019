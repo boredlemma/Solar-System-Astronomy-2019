{
 "cells": [
  {
   "cell_type": "markdown",
   "metadata": {},
   "source": [
    "# Solar System Astronomy\n",
    "## Solving Kepler Equation using Newton-Raphson method \n",
    "### 2013-10963 Seha Lee"
   ]
  },
  {
   "cell_type": "markdown",
   "metadata": {},
   "source": [
    "#### (1) when e=1/4 and M=pi/2"
   ]
  },
  {
   "cell_type": "code",
   "execution_count": 5,
   "metadata": {},
   "outputs": [
    {
     "name": "stdout",
     "output_type": "stream",
     "text": [
      "loop= 1 error= 0.25 a= 1.8207963267948966\n",
      "loop= 2 error= 0.007319195110137739 a= 1.8134771316847589\n",
      "loop= 3 error= 6.124244678995568e-06 a= 1.81347100744008\n",
      "loop= 4 error= 4.293117417003227e-12 a= 1.813471007435787\n"
     ]
    }
   ],
   "source": [
    "import numpy as np\n",
    "import matplotlib.pyplot as plt\n",
    "\n",
    "\n",
    "e=0.25\n",
    "M=0.5*np.pi\n",
    "\n",
    "def func(E):\n",
    "    f=E-e*np.sin(E)-M\n",
    "    df=1-e*np.cos(E)\n",
    "    return f,df\n",
    "\n",
    "a=np.pi/2\n",
    "TOL=10**(-10)\n",
    "loop=0\n",
    "err=1\n",
    "\n",
    "while err>=TOL:\n",
    "    loop+=1\n",
    "    f,df=func(a)\n",
    "    err=np.abs(f/df)\n",
    "    a-=f/df\n",
    "    print('loop=',loop,'error=',err,'a=',a)"
   ]
  },
  {
   "cell_type": "code",
   "execution_count": 12,
   "metadata": {},
   "outputs": [
    {
     "data": {
      "text/plain": [
       "[<matplotlib.lines.Line2D at 0x119e7f278>]"
      ]
     },
     "execution_count": 12,
     "metadata": {},
     "output_type": "execute_result"
    },
    {
     "data": {
      "image/png": "[encoded data removed]",
      "text/plain": [
       "<Figure size 432x288 with 1 Axes>"
      ]
     },
     "metadata": {
      "needs_background": "light"
     },
     "output_type": "display_data"
    }
   ],
   "source": [
    "e=0.25\n",
    "M=0.5*np.pi\n",
    "E=np.arange(-2,4)\n",
    "f=E-e*np.sin(E)-M\n",
    "af=a-e*np.sin(a)-M\n",
    "plt.plot(E,f)\n",
    "plt.plot(a,af,'D')"
   ]
  },
  {
   "cell_type": "markdown",
   "metadata": {},
   "source": [
    "#### (2) when e=3/4 and M=pi/2"
   ]
  },
  {
   "cell_type": "code",
   "execution_count": 13,
   "metadata": {},
   "outputs": [
    {
     "name": "stdout",
     "output_type": "stream",
     "text": [
      "loop= 1 error= 0.75 a= 2.3207963267948966\n",
      "loop= 2 error= 0.13315873307168707 a= 2.1876375937232093\n",
      "loop= 3 error= 0.0035282522704755 a= 2.184109341452734\n",
      "loop= 4 error= 2.6619527672660894e-06 a= 2.184106679499967\n",
      "loop= 5 error= 1.5180540968180061e-12 a= 2.184106679498449\n"
     ]
    }
   ],
   "source": [
    "import numpy as np\n",
    "import matplotlib.pyplot as plt\n",
    "\n",
    "\n",
    "e=0.75\n",
    "M=0.5*np.pi\n",
    "\n",
    "def func(E):\n",
    "    f=E-e*np.sin(E)-M\n",
    "    df=1-e*np.cos(E)\n",
    "    return f,df\n",
    "\n",
    "a=np.pi/2\n",
    "TOL=10**(-10)\n",
    "loop=0\n",
    "err=1\n",
    "\n",
    "while err>=TOL:\n",
    "    loop+=1\n",
    "    f,df=func(a)\n",
    "    err=np.abs(f/df)\n",
    "    a-=f/df\n",
    "    print('loop=',loop,'error=',err,'a=',a)"
   ]
  },
  {
   "cell_type": "code",
   "execution_count": 14,
   "metadata": {},
   "outputs": [
    {
     "data": {
      "text/plain": [
       "[<matplotlib.lines.Line2D at 0x119dcfda0>]"
      ]
     },
     "execution_count": 14,
     "metadata": {},
     "output_type": "execute_result"
    },
    {
     "data": {
      "image/png": "[encoded data removed]",
      "text/plain": [
       "<Figure size 432x288 with 1 Axes>"
      ]
     },
     "metadata": {
      "needs_background": "light"
     },
     "output_type": "display_data"
    }
   ],
   "source": [
    "e=0.75\n",
    "M=0.5*np.pi\n",
    "E=np.arange(-2,4)\n",
    "f=E-e*np.sin(E)-M\n",
    "af=a-e*np.sin(a)-M\n",
    "plt.plot(E,f)\n",
    "plt.plot(a,af,'D')"
   ]
  },
  {
   "cell_type": "markdown",
   "metadata": {},
   "source": [
    "#### (3) when e=1/4 and M=pi/4"
   ]
  },
  {
   "cell_type": "code",
   "execution_count": 15,
   "metadata": {},
   "outputs": [
    {
     "name": "stdout",
     "output_type": "stream",
     "text": [
      "loop= 1 error= 0.5353981633974483 a= 1.0353981633974483\n",
      "loop= 2 error= 0.04009793638527753 a= 0.9953002270121707\n",
      "loop= 3 error= 0.0001984668524445789 a= 0.9951017601597261\n",
      "loop= 4 error= 4.781100311107768e-09 a= 0.9951017553786258\n",
      "loop= 5 error= 0.0 a= 0.9951017553786258\n"
     ]
    }
   ],
   "source": [
    "import numpy as np\n",
    "import matplotlib.pyplot as plt\n",
    "\n",
    "\n",
    "e=0.25\n",
    "M=0.25*np.pi\n",
    "\n",
    "def func(E):\n",
    "    f=E-e*np.sin(E)-M\n",
    "    df=1-e*np.cos(E)\n",
    "    return f,df\n",
    "\n",
    "a=np.pi/2\n",
    "TOL=10**(-10)\n",
    "loop=0\n",
    "err=1\n",
    "\n",
    "while err>=TOL:\n",
    "    loop+=1\n",
    "    f,df=func(a)\n",
    "    err=np.abs(f/df)\n",
    "    a-=f/df\n",
    "    print('loop=',loop,'error=',err,'a=',a)"
   ]
  },
  {
   "cell_type": "code",
   "execution_count": 16,
   "metadata": {},
   "outputs": [
    {
     "data": {
      "text/plain": [
       "[<matplotlib.lines.Line2D at 0x119fe1da0>]"
      ]
     },
     "execution_count": 16,
     "metadata": {},
     "output_type": "execute_result"
    },
    {
     "data": {
      "image/png": "[encoded data removed]",
      "text/plain": [
       "<Figure size 432x288 with 1 Axes>"
      ]
     },
     "metadata": {
      "needs_background": "light"
     },
     "output_type": "display_data"
    }
   ],
   "source": [
    "e=0.25\n",
    "M=0.25*np.pi\n",
    "E=np.arange(-2,4)\n",
    "f=E-e*np.sin(E)-M\n",
    "af=a-e*np.sin(a)-M\n",
    "plt.plot(E,f)\n",
    "plt.plot(a,af,'D')"
   ]
  },
  {
   "cell_type": "code",
   "execution_count": null,
   "metadata": {},
   "outputs": [],
   "source": []
  }
 ],
 "metadata": {
  "kernelspec": {
   "display_name": "Python 3",
   "language": "python",
   "name": "python3"
  },
  "language_info": {
   "codemirror_mode": {
    "name": "ipython",
    "version": 3
   },
   "file_extension": ".py",
   "mimetype": "text/x-python",
   "name": "python",
   "nbconvert_exporter": "python",
   "pygments_lexer": "ipython3",
   "version": "3.7.1"
  }
 },
 "nbformat": 4,
 "nbformat_minor": 2
}
